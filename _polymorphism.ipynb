{
 "cells": [
  {
   "cell_type": "code",
   "execution_count": 5,
   "id": "0eff2b0d-bfad-4882-9f75-5622aad4329c",
   "metadata": {},
   "outputs": [],
   "source": [
    "def test(a,b):\n",
    "    return a+b"
   ]
  },
  {
   "cell_type": "code",
   "execution_count": 7,
   "id": "798b9f57-fd0f-43d1-994f-16ca5db97f48",
   "metadata": {},
   "outputs": [
    {
     "data": {
      "text/plain": [
       "7"
      ]
     },
     "execution_count": 7,
     "metadata": {},
     "output_type": "execute_result"
    }
   ],
   "source": [
    "test(3,4)"
   ]
  },
  {
   "cell_type": "code",
   "execution_count": 10,
   "id": "98505edc-bffd-4ca2-9881-83248388617b",
   "metadata": {},
   "outputs": [
    {
     "data": {
      "text/plain": [
       "'sudh kumar'"
      ]
     },
     "execution_count": 10,
     "metadata": {},
     "output_type": "execute_result"
    }
   ],
   "source": [
    "test(\"sudh \" , \"kumar\")"
   ]
  },
  {
   "cell_type": "code",
   "execution_count": 13,
   "id": "0ea0c427-adb6-49b8-b818-d70fd75d0eed",
   "metadata": {},
   "outputs": [
    {
     "data": {
      "text/plain": [
       "[2, 4, 6, 8, 9, 6, 4, 2]"
      ]
     },
     "execution_count": 13,
     "metadata": {},
     "output_type": "execute_result"
    }
   ],
   "source": [
    "test([2,4,6,8] , [9,6,4,2])"
   ]
  },
  {
   "cell_type": "code",
   "execution_count": 7,
   "id": "6f5c5598-d313-47a1-809f-8a842ab10323",
   "metadata": {},
   "outputs": [],
   "source": [
    "class data_science :\n",
    "    \n",
    "    def sylabus(self):\n",
    "        print(\"these is my sylabus for data science\")"
   ]
  },
  {
   "cell_type": "code",
   "execution_count": 8,
   "id": "49c4f9c3-2247-4089-8a13-ffdb253244fe",
   "metadata": {},
   "outputs": [],
   "source": [
    "class web_dev :\n",
    "    \n",
    "    def sylabus(self):\n",
    "        print(\"this is my sylabus for web dev\")"
   ]
  },
  {
   "cell_type": "code",
   "execution_count": 9,
   "id": "777781dc-a621-4593-980c-5cc3f0f655b5",
   "metadata": {},
   "outputs": [],
   "source": [
    "def class_p(class_obj):\n",
    "    for i in class_obj :\n",
    "        i.sylabus()"
   ]
  },
  {
   "cell_type": "code",
   "execution_count": 22,
   "id": "707642fd-133c-478c-b63b-8247ef9ba7e7",
   "metadata": {},
   "outputs": [],
   "source": [
    "data_science = data_science"
   ]
  },
  {
   "cell_type": "code",
   "execution_count": 11,
   "id": "e3465e96-d1ae-4bd1-860c-ee7242bce855",
   "metadata": {},
   "outputs": [],
   "source": [
    "web_dev = web_dev"
   ]
  },
  {
   "cell_type": "code",
   "execution_count": 12,
   "id": "bb8b1dbb-d2bb-4ad5-8409-3252c2af7f96",
   "metadata": {},
   "outputs": [],
   "source": [
    "class_obj = [data_science , web_dev]"
   ]
  },
  {
   "cell_type": "code",
   "execution_count": 15,
   "id": "f6d5f558-6e26-4569-aa28-e8ab6d87e185",
   "metadata": {},
   "outputs": [],
   "source": [
    "class_p = [data_science , web_dev]"
   ]
  },
  {
   "cell_type": "code",
   "execution_count": null,
   "id": "d5578ebe-d271-4233-9749-103e7351d07d",
   "metadata": {},
   "outputs": [],
   "source": []
  },
  {
   "cell_type": "code",
   "execution_count": null,
   "id": "b2ec0cf4-1979-4c59-812f-5b9098c7fcf2",
   "metadata": {},
   "outputs": [],
   "source": []
  }
 ],
 "metadata": {
  "kernelspec": {
   "display_name": "Python 3 (ipykernel)",
   "language": "python",
   "name": "python3"
  },
  "language_info": {
   "codemirror_mode": {
    "name": "ipython",
    "version": 3
   },
   "file_extension": ".py",
   "mimetype": "text/x-python",
   "name": "python",
   "nbconvert_exporter": "python",
   "pygments_lexer": "ipython3",
   "version": "3.10.8"
  }
 },
 "nbformat": 4,
 "nbformat_minor": 5
}
